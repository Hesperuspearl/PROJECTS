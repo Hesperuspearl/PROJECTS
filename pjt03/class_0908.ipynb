{
 "cells": [
  {
   "cell_type": "code",
   "execution_count": null,
   "metadata": {},
   "outputs": [],
   "source": []
  },
  {
   "cell_type": "markdown",
   "metadata": {},
   "source": [
    "싸피에서 무엇을?\n",
    "- 스타트캠프 : 로봇, API 사용법, GIT, MD\n",
    "- 파이썬 무넙\n",
    " - 문법 + PJT 에서는 데이터 파싱 + 데이터 사이언스\n",
    "\n",
    "- 알고리즘\n",
    " - 코딩테스트 : 기업에서 여러분들의 기초를 확인\n",
    "        -> 문제 해결 능력 (디버깅)\n",
    "        -> 파이참 디버깅 룰\n",
    "\n",
    "웹 시간에는?\n",
    "- HTML, CSS, bootstrap (그리드 시스템), 반응형 웹\n",
    "- 웹의 기초이기 때문에. -> 앞으로 여러분이 배울 내용들의 가장 기초\n",
    "\n",
    "-앞으로는 웹 서비스(애플리케이션)\n",
    " - 화면 구성, backend 등\n",
    " - 현재 화면구성에 집중.\n"
   ]
  },
  {
   "cell_type": "markdown",
   "metadata": {},
   "source": [
    "반응형웹\n",
    "- 여러 디바이스 화면 크기에 하나의 페이지를 잘 보여주기 위해\n",
    "\n",
    "\n",
    "오늘의 목표 : 나만의 웹사이트 만들기\n",
    "진해순서\n",
    "- 강사와 함께 Bootstrap으로 사이트 기본 구조를 구현합니다.\n",
    " - 네비게이션 바, 전체 프로젝트 구조 등\n",
    "- 이후 도전과제 스스로 진행"
   ]
  },
  {
   "cell_type": "markdown",
   "metadata": {},
   "source": [
    "전체 구조 만들기\n",
    "- 포트폴리오 사이트에 다음 내용포함\n",
    " - 메뉴(Navbar)\n",
    " - 메인 콘텐츠\n",
    " - 자기소개\n",
    " - 나의 기술 스택 소개\n",
    " - 진행한 프로젝트\n",
    " - 연락처 남기기\n",
    " - 꼬리말(footer)\n",
    "\n",
    "메인콘텐츠 div div\n",
    "자기소개 div div\n",
    "이렇게 되나? 됨. 근데 이렇게 하지말자. 우린 시멘틱 태그 배웠으니까.\n",
    "\n",
    "시멘틱 태그\n",
    "- 개념 : 의미를 부여\n",
    "    -> 누구를 위한 의미?\n",
    "    -> 개발자 + 검색 엔진(색인화)\n",
    "- 종류 : eader nav\n",
    "\n",
    "\n",
    "메뉴\n",
    "메인콘텐츠 - main\n",
    "자기소개 - section, article\n",
    "나의 기술 스택 소개- section, article"
   ]
  },
  {
   "cell_type": "markdown",
   "metadata": {},
   "source": [
    "\n",
    "\n",
    "*참고사이트\n",
    "seochecker\n",
    "gdweb design awards"
   ]
  }
 ],
 "metadata": {
  "language_info": {
   "name": "python"
  },
  "orig_nbformat": 4
 },
 "nbformat": 4,
 "nbformat_minor": 2
}
